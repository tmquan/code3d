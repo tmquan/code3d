{
 "cells": [
  {
   "cell_type": "code",
   "execution_count": 1,
   "metadata": {},
   "outputs": [],
   "source": [
    "import os\n",
    "from PIL import Image\n",
    "\n",
    "from typing import Optional, Tuple\n",
    "\n",
    "import numpy as np\n",
    "import torch\n",
    "import torch.nn as nn\n",
    "\n",
    "import pytorch3d\n",
    "from pytorch3d.renderer import FoVPerspectiveCameras\n",
    "from pytorch3d.renderer import ImplicitRenderer\n",
    "from pytorch3d.renderer import NDCGridRaysampler\n",
    "from pytorch3d.renderer import ray_bundle_to_ray_points\n",
    "from pytorch3d.renderer import RayBundle\n",
    "from pytorch3d.renderer import EmissionAbsorptionRaymarcher\n",
    "\n",
    "\n",
    "import matplotlib.pyplot as plt\n",
    "%matplotlib inline"
   ]
  },
  {
   "cell_type": "code",
   "execution_count": 4,
   "metadata": {},
   "outputs": [],
   "source": [
    "device = torch.device('cuda:1' if torch.cuda.is_available() else 'cpu')\n",
    "batch_size = 1\n",
    "screen_size = (320, 640)\n",
    "# volume_size = (128, 128, 128)\n",
    "\n",
    "# Rotation matrix and translation vector\n",
    "R = torch.tensor([[1, 0, 0], \n",
    "                  [0, 1, 0], \n",
    "                  [0, 0, 1]]).unsqueeze(0)\n",
    "T = torch.tensor( [0, 0, 0] ).unsqueeze(0)\n",
    "\n",
    "cameras = FoVPerspectiveCameras(\n",
    "    R=R, \n",
    "    T=T, \n",
    "    device=device,\n",
    ")\n",
    "\n",
    "ray_sampler = NDCGridRaysampler(\n",
    "    image_width = screen_size[1],\n",
    "    image_height = screen_size[0],\n",
    "    n_pts_per_ray = 512,\n",
    "    min_depth = 0.001,\n",
    "    max_depth = 4.0,\n",
    ")\n",
    "\n",
    "def blank_volumetric_function(\n",
    "    ray_bundle: RayBundle,\n",
    "    background_color: Tuple[float, float, float],\n",
    "    **kwargs,\n",
    ") -> Tuple[torch.Tensor, torch.Tensor]:\n",
    "    # first convert the ray origins, directions and lengths\n",
    "    # to 3D ray point locations in world coords\n",
    "    # ray_world_coords.shape = [batch_size, height, width, sampling_rate, xyz]\n",
    "    ray_points_world = ray_bundle_to_ray_points(ray_bundle)\n",
    "\n",
    "    # set the densities\n",
    "    # ray_densities.shape = [batch_size, height, width, sampling_rate, 1]\n",
    "    ray_densities = torch.ones_like(ray_points_world[..., [0]])\n",
    "    \n",
    "    # set the ray features to RGB colors \n",
    "    # ray_features.shape = [batch_size, height, width, sampling_rate, rgb]\n",
    "    ray_features = torch.zeros_like(ray_points_world)\n",
    "\n",
    "    # Process the background\n",
    "    # ray_features[..., :] = torch.ones_like(ray_features[..., :])        # White\n",
    "    # ray_features[..., :] = torch.rand_like(ray_features[..., :])        # Random\n",
    "    # ray_features[..., :] = torch.zeros_like(ray_features[..., :])       # Black\n",
    "    ray_features[..., [0]] = background_color[0] / 255 * torch.ones_like(ray_features[..., [0]])        \n",
    "    ray_features[..., [1]] = background_color[1] / 255 * torch.ones_like(ray_features[..., [1]])         \n",
    "    ray_features[..., [2]] = background_color[2] / 255 * torch.ones_like(ray_features[..., [2]])         \n",
    "    return ray_densities, ray_features\n",
    "\n",
    "ray_bundles = ray_sampler(cameras=cameras, volumetric_function=blank_volumetric_function)\n",
    "rays_densities, rays_features = blank_volumetric_function(\n",
    "    ray_bundle=ray_bundles, \n",
    "    background_color=(30, 50, 84),\n",
    ")\n",
    "\n",
    "ray_marcher = EmissionAbsorptionRaymarcher()\n",
    "images = ray_marcher(\n",
    "    rays_densities=rays_densities,\n",
    "    rays_features=rays_features,\n",
    "    ray_bundle=ray_bundles,\n",
    ")\n"
   ]
  },
  {
   "cell_type": "code",
   "execution_count": 5,
   "metadata": {},
   "outputs": [
    {
     "data": {
      "image/png": "[encoded data removed]",
      "text/plain": [
       "<Figure size 576x288 with 1 Axes>"
      ]
     },
     "metadata": {
      "needs_background": "light"
     },
     "output_type": "display_data"
    }
   ],
   "source": [
    "fig, ax = plt.subplots(1, 1, figsize=(8, 4), tight_layout=True, frameon=False)\n",
    "plt.imshow( images.cpu().numpy()[0, :, :] )\n",
    "plt.axis(\"off\")\n",
    "plt.savefig('image.png', bbox_inches='tight', pad_inches=0)\n"
   ]
  },
  {
   "cell_type": "code",
   "execution_count": null,
   "metadata": {},
   "outputs": [],
   "source": []
  }
 ],
 "metadata": {
  "interpreter": {
   "hash": "51793541473485875990746c0443809d6bef33d584e2b99950cb1559c0880bb8"
  },
  "kernelspec": {
   "display_name": "Python 3.8.8 ('pytorch3d': conda)",
   "language": "python",
   "name": "python3"
  },
  "language_info": {
   "codemirror_mode": {
    "name": "ipython",
    "version": 3
   },
   "file_extension": ".py",
   "mimetype": "text/x-python",
   "name": "python",
   "nbconvert_exporter": "python",
   "pygments_lexer": "ipython3",
   "version": "3.8.8"
  },
  "orig_nbformat": 4
 },
 "nbformat": 4,
 "nbformat_minor": 2
}
